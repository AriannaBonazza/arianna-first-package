{
 "cells": [
  {
   "cell_type": "markdown",
   "id": "b0afe118",
   "metadata": {},
   "source": [
    "# Arianna's first package Tutorial"
   ]
  },
  {
   "cell_type": "markdown",
   "id": "02deaeb3",
   "metadata": {},
   "source": [
    "To facilitate the writing of your documentation, you can write Notebooks. Once included they will be rendered as the rest of your documentation pages!\n",
    "\n",
    "By default, PH3 creates a `tutorials` folder inside `docs`:\n",
    "\n",
    "- `docs/index.rst` has a link to `tutorials/index.rst`\n",
    "- `docs/tutorials/index.rst` as a link to the notebook(s).\n",
    "\n",
    "Feel free to adapt to your needs!\n",
    "\n",
    "The <h*> structure of your notebook (`#`/`##`/...) will be applied to the navigation bar of your documentation. The actual filenames are ignored.\n",
    "\n",
    "In particular:\n",
    "\n",
    "- Each notebook is rendered as a single webpage...\n",
    "- But you can create more than one entry with one unique notebook"
   ]
  },
  {
   "cell_type": "markdown",
   "id": "b1c3e483",
   "metadata": {},
   "source": [
    "## How to use MyClass1"
   ]
  },
  {
   "cell_type": "code",
   "execution_count": null,
   "id": "cfec3903",
   "metadata": {
    "ExecuteTime": {
     "end_time": "2023-10-16T15:08:58.106647Z",
     "start_time": "2023-10-16T15:08:58.094520Z"
    }
   },
   "outputs": [],
   "source": [
    "from arianna_first_package import MyClass1"
   ]
  },
  {
   "cell_type": "code",
   "execution_count": null,
   "id": "221a3fc1",
   "metadata": {
    "ExecuteTime": {
     "end_time": "2023-10-16T15:08:58.123445Z",
     "start_time": "2023-10-16T15:08:58.108112Z"
    }
   },
   "outputs": [],
   "source": [
    "mc1 = MyClass1(a=42, b=51)\n",
    "print(mc1)"
   ]
  },
  {
   "cell_type": "code",
   "execution_count": null,
   "id": "dcbc68a3",
   "metadata": {
    "ExecuteTime": {
     "end_time": "2023-10-16T15:08:58.140522Z",
     "start_time": "2023-10-16T15:08:58.125451Z"
    }
   },
   "outputs": [],
   "source": [
    "mc1.a_square"
   ]
  },
  {
   "cell_type": "code",
   "execution_count": null,
   "id": "420fed8a",
   "metadata": {
    "ExecuteTime": {
     "end_time": "2023-10-16T15:08:58.155684Z",
     "start_time": "2023-10-16T15:08:58.142558Z"
    }
   },
   "outputs": [],
   "source": [
    "mc1.divide_a_by_c_and_add_d(6, 40)"
   ]
  },
  {
   "cell_type": "markdown",
   "id": "0fcedc50",
   "metadata": {},
   "source": [
    "## How to use MyClass2"
   ]
  },
  {
   "cell_type": "code",
   "execution_count": null,
   "id": "9165d681",
   "metadata": {
    "ExecuteTime": {
     "end_time": "2023-10-16T15:08:58.167953Z",
     "start_time": "2023-10-16T15:08:58.158698Z"
    }
   },
   "outputs": [],
   "source": [
    "from arianna_first_package import MyClass2"
   ]
  },
  {
   "cell_type": "code",
   "execution_count": null,
   "id": "418d0b1c",
   "metadata": {
    "ExecuteTime": {
     "end_time": "2023-10-16T15:08:58.189374Z",
     "start_time": "2023-10-16T15:08:58.171983Z"
    }
   },
   "outputs": [],
   "source": [
    "mc2 = MyClass2(a=9, b=4)\n",
    "mc2.addition()"
   ]
  },
  {
   "cell_type": "markdown",
   "id": "52ea47de",
   "metadata": {},
   "source": [
    "# Advanced Tutorial Where we Display Graphs"
   ]
  },
  {
   "cell_type": "markdown",
   "id": "4a563baf",
   "metadata": {},
   "source": [
    "One nice feature of using notebooks is that it is very easy to add graphs to your documentation.\n",
    "\n",
    "Don't forget to add the graphic packages you need to your poetry dependencies!"
   ]
  },
  {
   "cell_type": "code",
   "execution_count": null,
   "id": "e2e1b064",
   "metadata": {
    "ExecuteTime": {
     "end_time": "2024-10-14T16:28:36.783198Z",
     "start_time": "2024-10-14T16:28:35.126202Z"
    }
   },
   "outputs": [],
   "source": [
    "from matplotlib import pyplot as plt\n",
    "x = [(i/100-2) for i in range(400)]\n",
    "y = [i**2 for i in x]\n",
    "plt.plot(x, y, label='$x^2$')\n",
    "plt.xlabel('x')\n",
    "plt.ylabel('y')\n",
    "plt.xlim([-2, 2])\n",
    "plt.ylim([0, 4])\n",
    "plt.show()"
   ]
  },
  {
   "cell_type": "markdown",
   "id": "aa12180b-9a89-4e7c-b1b4-b3cc534cb1f5",
   "metadata": {},
   "source": [
    "# How to use MyClass4"
   ]
  },
  {
   "cell_type": "code",
   "execution_count": null,
   "id": "d23770cc-aad7-4f15-8b95-db7286bdfbf2",
   "metadata": {},
   "outputs": [],
   "source": [
    "from arianna_first_package import MyClass4"
   ]
  },
  {
   "cell_type": "code",
   "execution_count": null,
   "id": "6704db77-2459-4527-b037-1f10d9827e9c",
   "metadata": {},
   "outputs": [],
   "source": []
  }
 ],
 "metadata": {
  "kernelspec": {
   "display_name": "Python 3 (ipykernel)",
   "language": "python",
   "name": "python3"
  },
  "language_info": {
   "codemirror_mode": {
    "name": "ipython",
    "version": 3
   },
   "file_extension": ".py",
   "mimetype": "text/x-python",
   "name": "python",
   "nbconvert_exporter": "python",
   "pygments_lexer": "ipython3",
   "version": "3.12.2"
  },
  "toc": {
   "base_numbering": 1,
   "nav_menu": {},
   "number_sections": true,
   "sideBar": true,
   "skip_h1_title": false,
   "title_cell": "Table of Contents",
   "title_sidebar": "Contents",
   "toc_cell": false,
   "toc_position": {},
   "toc_section_display": true,
   "toc_window_display": false
  }
 },
 "nbformat": 4,
 "nbformat_minor": 5
}
